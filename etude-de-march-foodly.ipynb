{
 "cells": [
  {
   "cell_type": "code",
   "execution_count": 1,
   "id": "8951324c",
   "metadata": {
    "_cell_guid": "b1076dfc-b9ad-4769-8c92-a6c4dae69d19",
    "_uuid": "8f2839f25d086af736a60e9eeb907d3b93b6e0e5",
    "execution": {
     "iopub.execute_input": "2023-04-07T15:13:50.166161Z",
     "iopub.status.busy": "2023-04-07T15:13:50.165738Z",
     "iopub.status.idle": "2023-04-07T15:13:50.188716Z",
     "shell.execute_reply": "2023-04-07T15:13:50.187525Z"
    },
    "papermill": {
     "duration": 0.034034,
     "end_time": "2023-04-07T15:13:50.191443",
     "exception": false,
     "start_time": "2023-04-07T15:13:50.157409",
     "status": "completed"
    },
    "tags": []
   },
   "outputs": [
    {
     "name": "stdout",
     "output_type": "stream",
     "text": [
      "/kaggle/input/openfoodfacts/clean_p2.csv\n",
      "/kaggle/input/openfoodfacts/en.openfoodfacts.org.products.csv\n"
     ]
    }
   ],
   "source": [
    "# This Python 3 environment comes with many helpful analytics libraries installed\n",
    "# It is defined by the kaggle/python Docker image: https://github.com/kaggle/docker-python\n",
    "# For example, here's several helpful packages to load\n",
    "\n",
    "import numpy as np # linear algebra\n",
    "import pandas as pd # data processing, CSV file I/O (e.g. pd.read_csv)\n",
    "\n",
    "# Input data files are available in the read-only \"../input/\" directory\n",
    "# For example, running this (by clicking run or pressing Shift+Enter) will list all files under the input directory\n",
    "\n",
    "import os\n",
    "for dirname, _, filenames in os.walk('/kaggle/input'):\n",
    "    for filename in filenames:\n",
    "        print(os.path.join(dirname, filename))\n",
    "\n",
    "# You can write up to 20GB to the current directory (/kaggle/working/) that gets preserved as output when you create a version using \"Save & Run All\" \n",
    "# You can also write temporary files to /kaggle/temp/, but they won't be saved outside of the current session"
   ]
  },
  {
   "cell_type": "code",
   "execution_count": 2,
   "id": "2e0971c2",
   "metadata": {
    "execution": {
     "iopub.execute_input": "2023-04-07T15:13:50.203605Z",
     "iopub.status.busy": "2023-04-07T15:13:50.203129Z",
     "iopub.status.idle": "2023-04-07T15:15:13.049496Z",
     "shell.execute_reply": "2023-04-07T15:15:13.048077Z"
    },
    "papermill": {
     "duration": 82.860631,
     "end_time": "2023-04-07T15:15:13.057378",
     "exception": false,
     "start_time": "2023-04-07T15:13:50.196747",
     "status": "completed"
    },
    "tags": []
   },
   "outputs": [
    {
     "data": {
      "text/html": [
       "<div>\n",
       "<style scoped>\n",
       "    .dataframe tbody tr th:only-of-type {\n",
       "        vertical-align: middle;\n",
       "    }\n",
       "\n",
       "    .dataframe tbody tr th {\n",
       "        vertical-align: top;\n",
       "    }\n",
       "\n",
       "    .dataframe thead th {\n",
       "        text-align: right;\n",
       "    }\n",
       "</style>\n",
       "<table border=\"1\" class=\"dataframe\">\n",
       "  <thead>\n",
       "    <tr style=\"text-align: right;\">\n",
       "      <th></th>\n",
       "      <th>product_name</th>\n",
       "      <th>brands</th>\n",
       "      <th>categories</th>\n",
       "      <th>nutriscore_score</th>\n",
       "      <th>nutriscore_grade</th>\n",
       "      <th>fat_100g</th>\n",
       "      <th>sugars_100g</th>\n",
       "      <th>nutrition-score-fr_100g</th>\n",
       "    </tr>\n",
       "  </thead>\n",
       "  <tbody>\n",
       "    <tr>\n",
       "      <th>0</th>\n",
       "      <td>jeunes pousses</td>\n",
       "      <td>endives</td>\n",
       "      <td>NaN</td>\n",
       "      <td>NaN</td>\n",
       "      <td>NaN</td>\n",
       "      <td>NaN</td>\n",
       "      <td>NaN</td>\n",
       "      <td>NaN</td>\n",
       "    </tr>\n",
       "    <tr>\n",
       "      <th>1</th>\n",
       "      <td>L.casei</td>\n",
       "      <td>NaN</td>\n",
       "      <td>NaN</td>\n",
       "      <td>NaN</td>\n",
       "      <td>NaN</td>\n",
       "      <td>1.4</td>\n",
       "      <td>9.8</td>\n",
       "      <td>NaN</td>\n",
       "    </tr>\n",
       "    <tr>\n",
       "      <th>2</th>\n",
       "      <td>Vitória crackers</td>\n",
       "      <td>NaN</td>\n",
       "      <td>NaN</td>\n",
       "      <td>NaN</td>\n",
       "      <td>NaN</td>\n",
       "      <td>7.0</td>\n",
       "      <td>15.0</td>\n",
       "      <td>NaN</td>\n",
       "    </tr>\n",
       "    <tr>\n",
       "      <th>3</th>\n",
       "      <td>Cacao</td>\n",
       "      <td>NaN</td>\n",
       "      <td>NaN</td>\n",
       "      <td>NaN</td>\n",
       "      <td>NaN</td>\n",
       "      <td>NaN</td>\n",
       "      <td>NaN</td>\n",
       "      <td>NaN</td>\n",
       "    </tr>\n",
       "    <tr>\n",
       "      <th>4</th>\n",
       "      <td>Filetes de pollo empanado</td>\n",
       "      <td>NaN</td>\n",
       "      <td>NaN</td>\n",
       "      <td>NaN</td>\n",
       "      <td>NaN</td>\n",
       "      <td>1.9</td>\n",
       "      <td>NaN</td>\n",
       "      <td>NaN</td>\n",
       "    </tr>\n",
       "  </tbody>\n",
       "</table>\n",
       "</div>"
      ],
      "text/plain": [
       "                product_name   brands categories  nutriscore_score  \\\n",
       "0             jeunes pousses  endives        NaN               NaN   \n",
       "1                    L.casei      NaN        NaN               NaN   \n",
       "2           Vitória crackers      NaN        NaN               NaN   \n",
       "3                      Cacao      NaN        NaN               NaN   \n",
       "4  Filetes de pollo empanado      NaN        NaN               NaN   \n",
       "\n",
       "  nutriscore_grade  fat_100g  sugars_100g  nutrition-score-fr_100g  \n",
       "0              NaN       NaN          NaN                      NaN  \n",
       "1              NaN       1.4          9.8                      NaN  \n",
       "2              NaN       7.0         15.0                      NaN  \n",
       "3              NaN       NaN          NaN                      NaN  \n",
       "4              NaN       1.9          NaN                      NaN  "
      ]
     },
     "execution_count": 2,
     "metadata": {},
     "output_type": "execute_result"
    }
   ],
   "source": [
    "# Afficher uniquement les colonnes qui nous intéressent\n",
    "data = pd.read_csv('/kaggle/input/openfoodfacts/en.openfoodfacts.org.products.csv', delimiter='\\t', usecols=['product_name','categories','brands','fat_100g','sugars_100g','nutriscore_grade','nutriscore_score','nutrition-score-fr_100g'])\n",
    "data.head()"
   ]
  },
  {
   "cell_type": "code",
   "execution_count": 3,
   "id": "442493f1",
   "metadata": {
    "execution": {
     "iopub.execute_input": "2023-04-07T15:15:13.070390Z",
     "iopub.status.busy": "2023-04-07T15:15:13.069895Z",
     "iopub.status.idle": "2023-04-07T15:15:13.598485Z",
     "shell.execute_reply": "2023-04-07T15:15:13.597277Z"
    },
    "papermill": {
     "duration": 0.538462,
     "end_time": "2023-04-07T15:15:13.601251",
     "exception": false,
     "start_time": "2023-04-07T15:15:13.062789",
     "status": "completed"
    },
    "tags": []
   },
   "outputs": [
    {
     "data": {
      "text/html": [
       "<div>\n",
       "<style scoped>\n",
       "    .dataframe tbody tr th:only-of-type {\n",
       "        vertical-align: middle;\n",
       "    }\n",
       "\n",
       "    .dataframe tbody tr th {\n",
       "        vertical-align: top;\n",
       "    }\n",
       "\n",
       "    .dataframe thead th {\n",
       "        text-align: right;\n",
       "    }\n",
       "</style>\n",
       "<table border=\"1\" class=\"dataframe\">\n",
       "  <thead>\n",
       "    <tr style=\"text-align: right;\">\n",
       "      <th></th>\n",
       "      <th>product_name</th>\n",
       "      <th>brands</th>\n",
       "      <th>categories</th>\n",
       "      <th>nutriscore_score</th>\n",
       "      <th>nutriscore_grade</th>\n",
       "      <th>fat_100g</th>\n",
       "      <th>sugars_100g</th>\n",
       "      <th>nutrition-score-fr_100g</th>\n",
       "    </tr>\n",
       "  </thead>\n",
       "  <tbody>\n",
       "    <tr>\n",
       "      <th>7</th>\n",
       "      <td>moutarde au moût de raisin</td>\n",
       "      <td>courte paille</td>\n",
       "      <td>Epicerie, Condiments, Sauces, Moutardes</td>\n",
       "      <td>18.0</td>\n",
       "      <td>d</td>\n",
       "      <td>8.2</td>\n",
       "      <td>22.0</td>\n",
       "      <td>18.0</td>\n",
       "    </tr>\n",
       "    <tr>\n",
       "      <th>27</th>\n",
       "      <td>Tarte noix de coco</td>\n",
       "      <td>Crous Resto',Crous</td>\n",
       "      <td>Tartes, Tartes sucrées, Tartes à la noix de coco</td>\n",
       "      <td>14.0</td>\n",
       "      <td>d</td>\n",
       "      <td>22.0</td>\n",
       "      <td>21.9</td>\n",
       "      <td>14.0</td>\n",
       "    </tr>\n",
       "    <tr>\n",
       "      <th>37</th>\n",
       "      <td>Compote de poire</td>\n",
       "      <td>Crous</td>\n",
       "      <td>Aliments et boissons à base de végétaux, Alime...</td>\n",
       "      <td>-2.0</td>\n",
       "      <td>a</td>\n",
       "      <td>0.0</td>\n",
       "      <td>27.0</td>\n",
       "      <td>-2.0</td>\n",
       "    </tr>\n",
       "    <tr>\n",
       "      <th>74</th>\n",
       "      <td>BAguette bressan</td>\n",
       "      <td>Crousresto'</td>\n",
       "      <td>Aliments et boissons à base de végétaux, Alime...</td>\n",
       "      <td>-4.0</td>\n",
       "      <td>a</td>\n",
       "      <td>2.2</td>\n",
       "      <td>0.6</td>\n",
       "      <td>-4.0</td>\n",
       "    </tr>\n",
       "    <tr>\n",
       "      <th>101</th>\n",
       "      <td>Rillettes de sanglier au Chouchen</td>\n",
       "      <td>Le Bois Jumel</td>\n",
       "      <td>Viandes, Produits à tartiner, Charcuteries, Pr...</td>\n",
       "      <td>21.0</td>\n",
       "      <td>e</td>\n",
       "      <td>29.0</td>\n",
       "      <td>0.0</td>\n",
       "      <td>21.0</td>\n",
       "    </tr>\n",
       "    <tr>\n",
       "      <th>...</th>\n",
       "      <td>...</td>\n",
       "      <td>...</td>\n",
       "      <td>...</td>\n",
       "      <td>...</td>\n",
       "      <td>...</td>\n",
       "      <td>...</td>\n",
       "      <td>...</td>\n",
       "      <td>...</td>\n",
       "    </tr>\n",
       "    <tr>\n",
       "      <th>2024789</th>\n",
       "      <td>Paprikás Kukorica csemege</td>\n",
       "      <td>Spar</td>\n",
       "      <td>Extrudált Kukorica</td>\n",
       "      <td>11.0</td>\n",
       "      <td>d</td>\n",
       "      <td>24.0</td>\n",
       "      <td>1.5</td>\n",
       "      <td>11.0</td>\n",
       "    </tr>\n",
       "    <tr>\n",
       "      <th>2024797</th>\n",
       "      <td>Veganes Mühlenhack</td>\n",
       "      <td>Rügenwalder Mühle</td>\n",
       "      <td>Plant-based foods and beverages,Plant-based fo...</td>\n",
       "      <td>-3.0</td>\n",
       "      <td>a</td>\n",
       "      <td>3.2</td>\n",
       "      <td>0.5</td>\n",
       "      <td>-3.0</td>\n",
       "    </tr>\n",
       "    <tr>\n",
       "      <th>2024806</th>\n",
       "      <td>Chocolat de Couverture Noir</td>\n",
       "      <td>Barry</td>\n",
       "      <td>Snacks, Snacks sucrés, Cacao et dérivés, Choco...</td>\n",
       "      <td>22.0</td>\n",
       "      <td>e</td>\n",
       "      <td>46.9</td>\n",
       "      <td>26.9</td>\n",
       "      <td>22.0</td>\n",
       "    </tr>\n",
       "    <tr>\n",
       "      <th>2024842</th>\n",
       "      <td>Riz parfumé</td>\n",
       "      <td>King Elephant</td>\n",
       "      <td>Aliments et boissons à base de végétaux, Alime...</td>\n",
       "      <td>0.0</td>\n",
       "      <td>b</td>\n",
       "      <td>0.5</td>\n",
       "      <td>0.0</td>\n",
       "      <td>0.0</td>\n",
       "    </tr>\n",
       "    <tr>\n",
       "      <th>2024851</th>\n",
       "      <td>Erdbeerkuchen 1019g tiefgefroren</td>\n",
       "      <td>Coppenrath &amp; Wiese</td>\n",
       "      <td>Kekse und Kuchen, Kuchen, Tiefkühl-Kuchen</td>\n",
       "      <td>12.0</td>\n",
       "      <td>d</td>\n",
       "      <td>7.6</td>\n",
       "      <td>24.0</td>\n",
       "      <td>12.0</td>\n",
       "    </tr>\n",
       "  </tbody>\n",
       "</table>\n",
       "<p>516000 rows × 8 columns</p>\n",
       "</div>"
      ],
      "text/plain": [
       "                              product_name              brands  \\\n",
       "7              moutarde au moût de raisin        courte paille   \n",
       "27                      Tarte noix de coco  Crous Resto',Crous   \n",
       "37                        Compote de poire               Crous   \n",
       "74                        BAguette bressan         Crousresto'   \n",
       "101      Rillettes de sanglier au Chouchen       Le Bois Jumel   \n",
       "...                                    ...                 ...   \n",
       "2024789          Paprikás Kukorica csemege                Spar   \n",
       "2024797                 Veganes Mühlenhack   Rügenwalder Mühle   \n",
       "2024806        Chocolat de Couverture Noir               Barry   \n",
       "2024842                        Riz parfumé       King Elephant   \n",
       "2024851   Erdbeerkuchen 1019g tiefgefroren  Coppenrath & Wiese   \n",
       "\n",
       "                                                categories  nutriscore_score  \\\n",
       "7                  Epicerie, Condiments, Sauces, Moutardes              18.0   \n",
       "27        Tartes, Tartes sucrées, Tartes à la noix de coco              14.0   \n",
       "37       Aliments et boissons à base de végétaux, Alime...              -2.0   \n",
       "74       Aliments et boissons à base de végétaux, Alime...              -4.0   \n",
       "101      Viandes, Produits à tartiner, Charcuteries, Pr...              21.0   \n",
       "...                                                    ...               ...   \n",
       "2024789                                 Extrudált Kukorica              11.0   \n",
       "2024797  Plant-based foods and beverages,Plant-based fo...              -3.0   \n",
       "2024806  Snacks, Snacks sucrés, Cacao et dérivés, Choco...              22.0   \n",
       "2024842  Aliments et boissons à base de végétaux, Alime...               0.0   \n",
       "2024851          Kekse und Kuchen, Kuchen, Tiefkühl-Kuchen              12.0   \n",
       "\n",
       "        nutriscore_grade  fat_100g  sugars_100g  nutrition-score-fr_100g  \n",
       "7                      d       8.2         22.0                     18.0  \n",
       "27                     d      22.0         21.9                     14.0  \n",
       "37                     a       0.0         27.0                     -2.0  \n",
       "74                     a       2.2          0.6                     -4.0  \n",
       "101                    e      29.0          0.0                     21.0  \n",
       "...                  ...       ...          ...                      ...  \n",
       "2024789                d      24.0          1.5                     11.0  \n",
       "2024797                a       3.2          0.5                     -3.0  \n",
       "2024806                e      46.9         26.9                     22.0  \n",
       "2024842                b       0.5          0.0                      0.0  \n",
       "2024851                d       7.6         24.0                     12.0  \n",
       "\n",
       "[516000 rows x 8 columns]"
      ]
     },
     "execution_count": 3,
     "metadata": {},
     "output_type": "execute_result"
    }
   ],
   "source": [
    "# Supprimer toutes les colonnes auxquelles il manque des informations (NaN)\n",
    "datasansnan = data.dropna(how='any')\n",
    "datasansnan"
   ]
  },
  {
   "cell_type": "code",
   "execution_count": 4,
   "id": "c03a6de1",
   "metadata": {
    "execution": {
     "iopub.execute_input": "2023-04-07T15:15:13.615249Z",
     "iopub.status.busy": "2023-04-07T15:15:13.614100Z",
     "iopub.status.idle": "2023-04-07T15:15:13.981964Z",
     "shell.execute_reply": "2023-04-07T15:15:13.980612Z"
    },
    "papermill": {
     "duration": 0.377701,
     "end_time": "2023-04-07T15:15:13.984659",
     "exception": false,
     "start_time": "2023-04-07T15:15:13.606958",
     "status": "completed"
    },
    "tags": []
   },
   "outputs": [
    {
     "data": {
      "text/html": [
       "<div>\n",
       "<style scoped>\n",
       "    .dataframe tbody tr th:only-of-type {\n",
       "        vertical-align: middle;\n",
       "    }\n",
       "\n",
       "    .dataframe tbody tr th {\n",
       "        vertical-align: top;\n",
       "    }\n",
       "\n",
       "    .dataframe thead th {\n",
       "        text-align: right;\n",
       "    }\n",
       "</style>\n",
       "<table border=\"1\" class=\"dataframe\">\n",
       "  <thead>\n",
       "    <tr style=\"text-align: right;\">\n",
       "      <th></th>\n",
       "      <th>nutriscore_score</th>\n",
       "      <th>fat_100g</th>\n",
       "      <th>sugars_100g</th>\n",
       "      <th>nutrition-score-fr_100g</th>\n",
       "    </tr>\n",
       "  </thead>\n",
       "  <tbody>\n",
       "    <tr>\n",
       "      <th>count</th>\n",
       "      <td>1624.000000</td>\n",
       "      <td>1624.000000</td>\n",
       "      <td>1624.000000</td>\n",
       "      <td>1624.000000</td>\n",
       "    </tr>\n",
       "    <tr>\n",
       "      <th>mean</th>\n",
       "      <td>19.241995</td>\n",
       "      <td>21.757792</td>\n",
       "      <td>29.281446</td>\n",
       "      <td>19.241995</td>\n",
       "    </tr>\n",
       "    <tr>\n",
       "      <th>std</th>\n",
       "      <td>6.680910</td>\n",
       "      <td>7.904889</td>\n",
       "      <td>13.516707</td>\n",
       "      <td>6.680910</td>\n",
       "    </tr>\n",
       "    <tr>\n",
       "      <th>min</th>\n",
       "      <td>-5.000000</td>\n",
       "      <td>0.000000</td>\n",
       "      <td>0.000000</td>\n",
       "      <td>-5.000000</td>\n",
       "    </tr>\n",
       "    <tr>\n",
       "      <th>25%</th>\n",
       "      <td>15.000000</td>\n",
       "      <td>17.000000</td>\n",
       "      <td>21.100000</td>\n",
       "      <td>15.000000</td>\n",
       "    </tr>\n",
       "    <tr>\n",
       "      <th>50%</th>\n",
       "      <td>21.000000</td>\n",
       "      <td>22.300000</td>\n",
       "      <td>30.000000</td>\n",
       "      <td>21.000000</td>\n",
       "    </tr>\n",
       "    <tr>\n",
       "      <th>75%</th>\n",
       "      <td>24.000000</td>\n",
       "      <td>27.000000</td>\n",
       "      <td>39.000000</td>\n",
       "      <td>24.000000</td>\n",
       "    </tr>\n",
       "    <tr>\n",
       "      <th>max</th>\n",
       "      <td>34.000000</td>\n",
       "      <td>70.000000</td>\n",
       "      <td>75.000000</td>\n",
       "      <td>34.000000</td>\n",
       "    </tr>\n",
       "  </tbody>\n",
       "</table>\n",
       "</div>"
      ],
      "text/plain": [
       "       nutriscore_score     fat_100g  sugars_100g  nutrition-score-fr_100g\n",
       "count       1624.000000  1624.000000  1624.000000              1624.000000\n",
       "mean          19.241995    21.757792    29.281446                19.241995\n",
       "std            6.680910     7.904889    13.516707                 6.680910\n",
       "min           -5.000000     0.000000     0.000000                -5.000000\n",
       "25%           15.000000    17.000000    21.100000                15.000000\n",
       "50%           21.000000    22.300000    30.000000                21.000000\n",
       "75%           24.000000    27.000000    39.000000                24.000000\n",
       "max           34.000000    70.000000    75.000000                34.000000"
      ]
     },
     "execution_count": 4,
     "metadata": {},
     "output_type": "execute_result"
    }
   ],
   "source": [
    "# Trier les catégories afin de n'avoir que les biscuits \n",
    "databiscuit = datasansnan[datasansnan.categories.str.contains('biscuit')]\n",
    "databiscuit = databiscuit.drop_duplicates()\n",
    "databiscuit.describe()"
   ]
  },
  {
   "cell_type": "code",
   "execution_count": 5,
   "id": "9010ecc2",
   "metadata": {
    "execution": {
     "iopub.execute_input": "2023-04-07T15:15:13.998419Z",
     "iopub.status.busy": "2023-04-07T15:15:13.997692Z",
     "iopub.status.idle": "2023-04-07T15:15:14.002954Z",
     "shell.execute_reply": "2023-04-07T15:15:14.001762Z"
    },
    "papermill": {
     "duration": 0.014677,
     "end_time": "2023-04-07T15:15:14.005170",
     "exception": false,
     "start_time": "2023-04-07T15:15:13.990493",
     "status": "completed"
    },
    "tags": []
   },
   "outputs": [],
   "source": [
    "# Ne garder que les biscuits qui ont un bon nutri-score\n",
    "# databiscuitabc = databiscuit[databiscuit.nutriscore_grade.str.contains('a') | databiscuit.nutriscore_grade.str.contains('b') |databiscuit.nutriscore_grade.str.contains('c')]"
   ]
  },
  {
   "cell_type": "code",
   "execution_count": 6,
   "id": "41157cb4",
   "metadata": {
    "execution": {
     "iopub.execute_input": "2023-04-07T15:15:14.019990Z",
     "iopub.status.busy": "2023-04-07T15:15:14.018896Z",
     "iopub.status.idle": "2023-04-07T15:15:14.277971Z",
     "shell.execute_reply": "2023-04-07T15:15:14.276493Z"
    },
    "papermill": {
     "duration": 0.2698,
     "end_time": "2023-04-07T15:15:14.280772",
     "exception": false,
     "start_time": "2023-04-07T15:15:14.010972",
     "status": "completed"
    },
    "tags": []
   },
   "outputs": [
    {
     "data": {
      "image/png": "[encoded data removed]",
      "text/plain": [
       "<Figure size 640x480 with 1 Axes>"
      ]
     },
     "metadata": {},
     "output_type": "display_data"
    }
   ],
   "source": [
    "# Distribution des nutriscores\n",
    "import matplotlib.pyplot as plt\n",
    "plt.hist(databiscuit['nutriscore_score'],bins=12)\n",
    "plt.title('Distribution des nutriscores')\n",
    "plt.xlabel('Nutriscore')\n",
    "plt.ylabel('Quantité de produits')\n",
    "plt.show()"
   ]
  },
  {
   "cell_type": "code",
   "execution_count": 7,
   "id": "217c21de",
   "metadata": {
    "execution": {
     "iopub.execute_input": "2023-04-07T15:15:14.295898Z",
     "iopub.status.busy": "2023-04-07T15:15:14.295006Z",
     "iopub.status.idle": "2023-04-07T15:15:14.519136Z",
     "shell.execute_reply": "2023-04-07T15:15:14.517980Z"
    },
    "papermill": {
     "duration": 0.234801,
     "end_time": "2023-04-07T15:15:14.521949",
     "exception": false,
     "start_time": "2023-04-07T15:15:14.287148",
     "status": "completed"
    },
    "tags": []
   },
   "outputs": [
    {
     "data": {
      "image/png": "[encoded data removed]",
      "text/plain": [
       "<Figure size 640x480 with 1 Axes>"
      ]
     },
     "metadata": {},
     "output_type": "display_data"
    }
   ],
   "source": [
    "# Distribution des matières grasses\n",
    "plt.hist(databiscuit['fat_100g'],bins=[0, 5, 10, 15, 20, 25, 30, 35, 40, 45])\n",
    "plt.title('Distribution des matières grasses')\n",
    "plt.xlabel('Matières grasses en grammes pour 100g')\n",
    "plt.ylabel('Quantité de produits')\n",
    "plt.show()"
   ]
  },
  {
   "cell_type": "code",
   "execution_count": 8,
   "id": "9b1eceb6",
   "metadata": {
    "execution": {
     "iopub.execute_input": "2023-04-07T15:15:14.537491Z",
     "iopub.status.busy": "2023-04-07T15:15:14.536653Z",
     "iopub.status.idle": "2023-04-07T15:15:14.766735Z",
     "shell.execute_reply": "2023-04-07T15:15:14.765494Z"
    },
    "papermill": {
     "duration": 0.240776,
     "end_time": "2023-04-07T15:15:14.769415",
     "exception": false,
     "start_time": "2023-04-07T15:15:14.528639",
     "status": "completed"
    },
    "tags": []
   },
   "outputs": [
    {
     "data": {
      "image/png": "[encoded data removed]",
      "text/plain": [
       "<Figure size 640x480 with 1 Axes>"
      ]
     },
     "metadata": {},
     "output_type": "display_data"
    }
   ],
   "source": [
    "# Distribution des sucres\n",
    "plt.hist(databiscuit['sugars_100g'],bins=15)\n",
    "plt.title('Distribution des sucres')\n",
    "plt.xlabel('Quantité de sucre en grammes pour 100g')\n",
    "plt.ylabel('Quantité de produits')\n",
    "plt.show()"
   ]
  },
  {
   "cell_type": "code",
   "execution_count": 9,
   "id": "72e84c18",
   "metadata": {
    "execution": {
     "iopub.execute_input": "2023-04-07T15:15:14.786418Z",
     "iopub.status.busy": "2023-04-07T15:15:14.785526Z",
     "iopub.status.idle": "2023-04-07T15:15:16.253976Z",
     "shell.execute_reply": "2023-04-07T15:15:16.252695Z"
    },
    "papermill": {
     "duration": 1.480319,
     "end_time": "2023-04-07T15:15:16.256991",
     "exception": false,
     "start_time": "2023-04-07T15:15:14.776672",
     "status": "completed"
    },
    "tags": []
   },
   "outputs": [],
   "source": [
    "# Machine learning\n",
    "\n",
    "# On ajoute une librairie pour faire du clustering\n",
    "from sklearn.cluster import KMeans\n",
    "# On demande de faire 5 groupes\n",
    "kmeans_model = KMeans (n_clusters=5, random_state=1)\n",
    "# On ne prend que les colonnes avec des valeurs numériques\n",
    "databiscuit_kmeans = databiscuit._get_numeric_data()\n",
    "# On l'intègre au dataset\n",
    "kmeans_model.fit(databiscuit_kmeans)\n",
    "labels = kmeans_model.labels_"
   ]
  },
  {
   "cell_type": "code",
   "execution_count": 10,
   "id": "923b437b",
   "metadata": {
    "execution": {
     "iopub.execute_input": "2023-04-07T15:15:16.275172Z",
     "iopub.status.busy": "2023-04-07T15:15:16.274021Z",
     "iopub.status.idle": "2023-04-07T15:15:16.561149Z",
     "shell.execute_reply": "2023-04-07T15:15:16.559779Z"
    },
    "papermill": {
     "duration": 0.299217,
     "end_time": "2023-04-07T15:15:16.564097",
     "exception": false,
     "start_time": "2023-04-07T15:15:16.264880",
     "status": "completed"
    },
    "tags": []
   },
   "outputs": [
    {
     "data": {
      "image/png": "[encoded data removed]",
      "text/plain": [
       "<Figure size 640x480 with 1 Axes>"
      ]
     },
     "metadata": {},
     "output_type": "display_data"
    }
   ],
   "source": [
    "# On importe une librairie\n",
    "from sklearn.decomposition import PCA\n",
    "# On crée un graphique en lui donnant des infos\n",
    "pca_2 = PCA(2)\n",
    "plot_columns = pca_2.fit_transform(databiscuit_kmeans)\n",
    "# On crée un graphique en nuage de points\n",
    "plt.scatter(x=plot_columns[:,0],y=plot_columns[:,1],c=labels)\n",
    "plt.show()"
   ]
  },
  {
   "cell_type": "code",
   "execution_count": 11,
   "id": "e4729213",
   "metadata": {
    "execution": {
     "iopub.execute_input": "2023-04-07T15:15:16.583935Z",
     "iopub.status.busy": "2023-04-07T15:15:16.582921Z",
     "iopub.status.idle": "2023-04-07T15:15:16.593265Z",
     "shell.execute_reply": "2023-04-07T15:15:16.592206Z"
    },
    "papermill": {
     "duration": 0.02262,
     "end_time": "2023-04-07T15:15:16.595685",
     "exception": false,
     "start_time": "2023-04-07T15:15:16.573065",
     "status": "completed"
    },
    "tags": []
   },
   "outputs": [
    {
     "data": {
      "text/plain": [
       "nutriscore_score           1.000000\n",
       "fat_100g                   0.645312\n",
       "sugars_100g                0.647388\n",
       "nutrition-score-fr_100g    1.000000\n",
       "Name: nutriscore_score, dtype: float64"
      ]
     },
     "execution_count": 11,
     "metadata": {},
     "output_type": "execute_result"
    }
   ],
   "source": [
    "# On vérifie la corrélation des autres colonnes avec average_rating\n",
    "databiscuit.corr()['nutriscore_score']"
   ]
  },
  {
   "cell_type": "code",
   "execution_count": 12,
   "id": "8c8afdb6",
   "metadata": {
    "execution": {
     "iopub.execute_input": "2023-04-07T15:15:16.616266Z",
     "iopub.status.busy": "2023-04-07T15:15:16.615312Z",
     "iopub.status.idle": "2023-04-07T15:15:16.621197Z",
     "shell.execute_reply": "2023-04-07T15:15:16.620286Z"
    },
    "papermill": {
     "duration": 0.019342,
     "end_time": "2023-04-07T15:15:16.623533",
     "exception": false,
     "start_time": "2023-04-07T15:15:16.604191",
     "status": "completed"
    },
    "tags": []
   },
   "outputs": [],
   "source": [
    "columns = databiscuit.columns.tolist()\n",
    "columns = [c for c in columns if c not in [\"product_name\", \"brands\",\"categories\",\"nutriscore_grade\",\"nutriscore_score\"]]\n",
    "target = 'nutriscore_score'"
   ]
  },
  {
   "cell_type": "code",
   "execution_count": 13,
   "id": "00fa0e44",
   "metadata": {
    "execution": {
     "iopub.execute_input": "2023-04-07T15:15:16.642994Z",
     "iopub.status.busy": "2023-04-07T15:15:16.641792Z",
     "iopub.status.idle": "2023-04-07T15:15:16.655237Z",
     "shell.execute_reply": "2023-04-07T15:15:16.653792Z"
    },
    "papermill": {
     "duration": 0.026278,
     "end_time": "2023-04-07T15:15:16.658291",
     "exception": false,
     "start_time": "2023-04-07T15:15:16.632013",
     "status": "completed"
    },
    "tags": []
   },
   "outputs": [
    {
     "name": "stdout",
     "output_type": "stream",
     "text": [
      "(1299, 8)\n",
      "(325, 8)\n"
     ]
    }
   ],
   "source": [
    "from sklearn.model_selection import train_test_split\n",
    "# On sélectionne un dataset d'entrainement et on extrait un échantillon qui servira à entrainer le modèle\n",
    "train = databiscuit.sample(frac=0.8, random_state=1)\n",
    "# On fait un jeu de test qui ne doit pas être le jeu d'entrainement\n",
    "test = databiscuit.loc[~databiscuit.index.isin(train.index)]\n",
    "# On affiche les résultats\n",
    "print(train.shape)\n",
    "print (test.shape)"
   ]
  },
  {
   "cell_type": "code",
   "execution_count": 14,
   "id": "9907a756",
   "metadata": {
    "execution": {
     "iopub.execute_input": "2023-04-07T15:15:16.678219Z",
     "iopub.status.busy": "2023-04-07T15:15:16.677423Z",
     "iopub.status.idle": "2023-04-07T15:15:16.693919Z",
     "shell.execute_reply": "2023-04-07T15:15:16.692673Z"
    },
    "papermill": {
     "duration": 0.028924,
     "end_time": "2023-04-07T15:15:16.696237",
     "exception": false,
     "start_time": "2023-04-07T15:15:16.667313",
     "status": "completed"
    },
    "tags": []
   },
   "outputs": [
    {
     "data": {
      "text/plain": [
       "1.4190100160692575e-29"
      ]
     },
     "execution_count": 14,
     "metadata": {},
     "output_type": "execute_result"
    }
   ],
   "source": [
    "# On va choisir un modèle qu'on récupère\n",
    "from sklearn.linear_model import LinearRegression\n",
    "model = LinearRegression()\n",
    "model.fit(train[columns],train[target])\n",
    "# On fait des prédictions en utilisant notre jeu de test\n",
    "from sklearn.metrics import mean_squared_error\n",
    "predictions = model.predict(test[columns])\n",
    "mean_squared_error(predictions,test[target])"
   ]
  },
  {
   "cell_type": "code",
   "execution_count": 15,
   "id": "ed0f2e9c",
   "metadata": {
    "execution": {
     "iopub.execute_input": "2023-04-07T15:15:16.715492Z",
     "iopub.status.busy": "2023-04-07T15:15:16.715059Z",
     "iopub.status.idle": "2023-04-07T15:15:17.050244Z",
     "shell.execute_reply": "2023-04-07T15:15:17.048923Z"
    },
    "papermill": {
     "duration": 0.348342,
     "end_time": "2023-04-07T15:15:17.053229",
     "exception": false,
     "start_time": "2023-04-07T15:15:16.704887",
     "status": "completed"
    },
    "tags": []
   },
   "outputs": [
    {
     "data": {
      "text/plain": [
       "0.02257516762272567"
      ]
     },
     "execution_count": 15,
     "metadata": {},
     "output_type": "execute_result"
    }
   ],
   "source": [
    "# On teste avec un nouveau modèle, l'arbre décisionnel - random forest\n",
    "from sklearn.ensemble import RandomForestRegressor\n",
    "model = RandomForestRegressor(n_estimators=100, min_samples_leaf=10, random_state=1)\n",
    "model.fit(train[columns],train[target])\n",
    "predictions = model.predict(test[columns])\n",
    "mean_squared_error(predictions,test[target])"
   ]
  },
  {
   "cell_type": "code",
   "execution_count": 16,
   "id": "adba2729",
   "metadata": {
    "execution": {
     "iopub.execute_input": "2023-04-07T15:15:17.073864Z",
     "iopub.status.busy": "2023-04-07T15:15:17.072974Z",
     "iopub.status.idle": "2023-04-07T15:15:17.197022Z",
     "shell.execute_reply": "2023-04-07T15:15:17.195760Z"
    },
    "papermill": {
     "duration": 0.137456,
     "end_time": "2023-04-07T15:15:17.199760",
     "exception": false,
     "start_time": "2023-04-07T15:15:17.062304",
     "status": "completed"
    },
    "tags": []
   },
   "outputs": [
    {
     "data": {
      "text/plain": [
       "49.20307692307692"
      ]
     },
     "execution_count": 16,
     "metadata": {},
     "output_type": "execute_result"
    }
   ],
   "source": [
    "from sklearn.linear_model import Perceptron, LogisticRegression\n",
    "from sklearn.svm import SVC\n",
    "from sklearn.model_selection import train_test_split\n",
    "from sklearn.preprocessing import StandardScaler\n",
    "from sklearn import datasets\n",
    "from sklearn import metrics\n",
    "model = Perceptron()\n",
    "model.fit(train[columns],train[target])\n",
    "# On fait des prédictions en utilisant notre jeu de test\n",
    "from sklearn.metrics import mean_squared_error\n",
    "predictions = model.predict(test[columns])\n",
    "mean_squared_error(predictions,test[target])"
   ]
  },
  {
   "cell_type": "code",
   "execution_count": 17,
   "id": "b25f4a97",
   "metadata": {
    "execution": {
     "iopub.execute_input": "2023-04-07T15:15:17.220398Z",
     "iopub.status.busy": "2023-04-07T15:15:17.219231Z",
     "iopub.status.idle": "2023-04-07T15:15:17.224114Z",
     "shell.execute_reply": "2023-04-07T15:15:17.223141Z"
    },
    "papermill": {
     "duration": 0.017617,
     "end_time": "2023-04-07T15:15:17.226484",
     "exception": false,
     "start_time": "2023-04-07T15:15:17.208867",
     "status": "completed"
    },
    "tags": []
   },
   "outputs": [],
   "source": [
    "# Il faut ensuite créer un nouveau dataframe et mettre les données de test pour calculer le nutriscore en utilisant predictions = model.predict(test[columns])"
   ]
  }
 ],
 "metadata": {
  "kernelspec": {
   "display_name": "Python 3",
   "language": "python",
   "name": "python3"
  },
  "language_info": {
   "codemirror_mode": {
    "name": "ipython",
    "version": 3
   },
   "file_extension": ".py",
   "mimetype": "text/x-python",
   "name": "python",
   "nbconvert_exporter": "python",
   "pygments_lexer": "ipython3",
   "version": "3.7.12"
  },
  "papermill": {
   "default_parameters": {},
   "duration": 98.735188,
   "end_time": "2023-04-07T15:15:18.159790",
   "environment_variables": {},
   "exception": null,
   "input_path": "__notebook__.ipynb",
   "output_path": "__notebook__.ipynb",
   "parameters": {},
   "start_time": "2023-04-07T15:13:39.424602",
   "version": "2.4.0"
  }
 },
 "nbformat": 4,
 "nbformat_minor": 5
}
